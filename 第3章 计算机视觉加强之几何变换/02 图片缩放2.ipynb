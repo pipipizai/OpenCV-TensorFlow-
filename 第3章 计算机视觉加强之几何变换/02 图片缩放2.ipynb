{
 "cells": [
  {
   "cell_type": "code",
   "execution_count": null,
   "metadata": {},
   "outputs": [],
   "source": [
    "# 最近临域插值 双线性插值 原理\n",
    "# src 10*20 dst 5*10\n",
    "# dst <- src\n",
    "# (1,2) <- (2,4)\n",
    "# dst x 1 -> src x 2 new\n",
    "# newX = x*(src 行/目标 行) newX = 1 * (10/5) = 2\n",
    "# newY = y*(src 列/目标 列) newY = 2 * (20/10) = 4\n",
    "# 12.3 =12\n",
    "\n",
    "# 双线性插值\n",
    "# A1 = 20% 上 + 80% 下 A2一样\n",
    "# B1 = 30% 左 + 70% 右 B2一样\n",
    "# 1 最终点 = A1 30% + A2 70%\n",
    "# 2 最终点 = B1 20% + B2 80%"
   ]
  },
  {
   "cell_type": "code",
   "execution_count": null,
   "metadata": {},
   "outputs": [],
   "source": [
    "# 1.info 2.空白模板 3.xy\n",
    "import cv2\n",
    "import numpy as np\n",
    "img = cv2.imread('image0.jpg',1)\n",
    "imgInfo = img.shape\n",
    "height = imgInfo[0]\n",
    "width = imgInfo[1]\n",
    "dstHeight = int(height/2)\n",
    "dstWidth = int(width/2)\n",
    "dstImage = np.zeros((dstHeight,dstWidth,3),np.uint8) # 0-255\n",
    "for i in range(0, dstHeight): # 行\n",
    "    for j in range(0,dstWidth): # 列\n",
    "        iNew = int(i*(height*1.0/dstHeight))\n",
    "        jNew = int(j*(width*1.0/dstWidth))\n",
    "        dstImage[i,j] = img[iNew,jNew]\n",
    "cv2.imshow('dst', dstImage)\n",
    "cv2.waitKey(0)\n",
    "# 1. opencv API : resize  2. 算法原理  3. 源码"
   ]
  },
  {
   "cell_type": "code",
   "execution_count": null,
   "metadata": {},
   "outputs": [],
   "source": []
  }
 ],
 "metadata": {
  "kernelspec": {
   "display_name": "Python 3",
   "language": "python",
   "name": "python3"
  },
  "language_info": {
   "codemirror_mode": {
    "name": "ipython",
    "version": 3
   },
   "file_extension": ".py",
   "mimetype": "text/x-python",
   "name": "python",
   "nbconvert_exporter": "python",
   "pygments_lexer": "ipython3",
   "version": "3.6.9"
  }
 },
 "nbformat": 4,
 "nbformat_minor": 2
}
