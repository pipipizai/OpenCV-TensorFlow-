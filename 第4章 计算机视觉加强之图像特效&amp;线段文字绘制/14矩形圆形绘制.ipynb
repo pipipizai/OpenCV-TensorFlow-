{
 "cells": [
  {
   "cell_type": "code",
   "execution_count": null,
   "metadata": {},
   "outputs": [
    {
     "name": "stdout",
     "output_type": "stream",
     "text": [
      "(5, 2)\n",
      "(5, 1, 2)\n"
     ]
    }
   ],
   "source": [
    "import cv2\n",
    "import numpy as np\n",
    "newImageInfo = (500,500,3)\n",
    "dst = np.zeros(newImageInfo,np.uint8)\n",
    "#  1 dst 2 左上角 3 右下角 4 颜色 5 fill -1：内任是否填充 ； > 0 ：line width\n",
    "cv2.rectangle(dst,(50,100),(200,300),(255,0,0),5)\n",
    "# 圆形  2 center  3. r 半径  5.fill -1：内任是否填充 ； > 0 ：line width\n",
    "cv2.circle(dst,(250,250),(50),(0,255,0),2)\n",
    "# 扇形/椭圆形 2。 center 3。 轴的长度 4. angle 5. begin 起始角度 \n",
    "# 6. end 终止角度 7.   8. .fill -1：内任是否填充 ； > 0 ：line width\n",
    "cv2.ellipse(dst,(256,256),(150,100),0,0,180,(255,255,0),-1)\n",
    "\n",
    "# 任意多边形 np.int32：定义当前数组的数据类型\n",
    "points = np.array([[150,50],[140,140],[200,170],[250,250],[150,50]],np.int32)\n",
    "print(points.shape)\n",
    "# 维度转换\n",
    "points = points.reshape((-1,1,2))\n",
    "print(points.shape)\n",
    "cv2.polylines(dst,[points],True,(0,255,255))\n",
    "cv2.imshow('dst',dst)\n",
    "cv2.waitKey(0)"
   ]
  },
  {
   "cell_type": "code",
   "execution_count": null,
   "metadata": {},
   "outputs": [],
   "source": []
  }
 ],
 "metadata": {
  "kernelspec": {
   "display_name": "Python 3",
   "language": "python",
   "name": "python3"
  },
  "language_info": {
   "codemirror_mode": {
    "name": "ipython",
    "version": 3
   },
   "file_extension": ".py",
   "mimetype": "text/x-python",
   "name": "python",
   "nbconvert_exporter": "python",
   "pygments_lexer": "ipython3",
   "version": "3.6.9"
  }
 },
 "nbformat": 4,
 "nbformat_minor": 2
}
