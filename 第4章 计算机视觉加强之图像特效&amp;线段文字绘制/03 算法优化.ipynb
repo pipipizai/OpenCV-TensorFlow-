{
 "cells": [
  {
   "cell_type": "code",
   "execution_count": null,
   "metadata": {},
   "outputs": [],
   "source": [
    "# 1. 灰度是本章节最重要知识点 \n",
    "# 2. 很多图像运算的基础（边缘检测，人脸识别，行人识别）\n",
    "# 3. 算法的实时性，提高运算效果\n",
    "# 优化的原则：\n",
    "# 定点 -》 浮点 +- */ 》\n",
    "#  r*0.299 + g*0.587 + b*0.114\n",
    "# 100 1000 10000\n",
    "\n",
    "import cv2\n",
    "import numpy as np\n",
    "img = cv2.imread('image0.jpg',1)\n",
    "imgInfo = img.shape\n",
    "height = imgInfo[0]\n",
    "width = imgInfo[1]\n",
    "# RGB R=G=B = gray (R+G+B)/3\n",
    "dst = np.zeros((height,width,3),np.uint8)\n",
    "for i in range(0,height):\n",
    "    for j in range(0,width):\n",
    "        (b,g,r) = img[i,j]\n",
    "        b = int(b)\n",
    "        g = int(g)\n",
    "        r = int(r)\n",
    "        #浮点 -》 定点\n",
    "        #gray = (r*1 + g*2 + b*1)/4\n",
    "        #定点 -》 移位\n",
    "        gray = (r+(g<<1)+b)>>2\n",
    "        dst[i,j] = np.uint8(gray)\n",
    "cv2.imshow('dst',dst)\n",
    "cv2.waitKey(0)\n",
    "\n"
   ]
  },
  {
   "cell_type": "code",
   "execution_count": null,
   "metadata": {},
   "outputs": [],
   "source": []
  }
 ],
 "metadata": {
  "kernelspec": {
   "display_name": "Python 3",
   "language": "python",
   "name": "python3"
  },
  "language_info": {
   "codemirror_mode": {
    "name": "ipython",
    "version": 3
   },
   "file_extension": ".py",
   "mimetype": "text/x-python",
   "name": "python",
   "nbconvert_exporter": "python",
   "pygments_lexer": "ipython3",
   "version": "3.6.9"
  }
 },
 "nbformat": 4,
 "nbformat_minor": 2
}
